{
 "cells": [
  {
   "cell_type": "code",
   "execution_count": 213,
   "id": "b8d4447d",
   "metadata": {},
   "outputs": [],
   "source": [
    "import numpy as np\n",
    "import pandas as pd\n",
    "import seaborn as sn\n",
    "import matplotlib.pyplot as plt\n",
    "import plotly.express as px\n",
    "import time"
   ]
  },
  {
   "cell_type": "code",
   "execution_count": 214,
   "id": "b9705dbf",
   "metadata": {},
   "outputs": [
    {
     "data": {
      "text/plain": [
       "48"
      ]
     },
     "execution_count": 214,
     "metadata": {},
     "output_type": "execute_result"
    }
   ],
   "source": [
    "import warnings\n",
    "warnings.filterwarnings('ignore')\n",
    "\n",
    "train = pd.read_csv(\"train.csv\")\n",
    "val = pd.read_csv(\"val.csv\")\n",
    "# get training, validation, and testing data\n",
    "x_train, y_train = train.drop(columns = [\"interest_rate\"]), train[\"interest_rate\"]\n",
    "x_val, y_val = val.drop(columns = [\"interest_rate\"]), val[\"interest_rate\"]\n",
    "x_train.shape, x_val.shape, y_train.shape, y_val.shape\n",
    "\n",
    "train.isna().sum()\n",
    "x_train.shape[1]"
   ]
  },
  {
   "cell_type": "code",
   "execution_count": 215,
   "id": "546304d0",
   "metadata": {},
   "outputs": [
    {
     "data": {
      "text/plain": [
       "0.4272442699890523"
      ]
     },
     "execution_count": 215,
     "metadata": {},
     "output_type": "execute_result"
    }
   ],
   "source": [
    "# Linear Regression\n",
    "from sklearn.linear_model import LinearRegression\n",
    "linreg = LinearRegression().fit(x_train, y_train)\n",
    "pred = linreg.predict(x_val)\n",
    "mse(pred, y_val)\n"
   ]
  },
  {
   "cell_type": "code",
   "execution_count": 216,
   "id": "ffe95eb8",
   "metadata": {},
   "outputs": [
    {
     "data": {
      "text/plain": [
       "0.5094010171106792"
      ]
     },
     "execution_count": 216,
     "metadata": {},
     "output_type": "execute_result"
    }
   ],
   "source": [
    "# Random Forest with no hypterparameter tuning\n",
    "from sklearn.ensemble import RandomForestRegressor\n",
    "from sklearn.metrics import mean_squared_error as mse\n",
    "regr = RandomForestRegressor(max_depth=2, random_state=0)\n",
    "regr.fit(x_train, y_train)\n",
    "pred = regr.predict(x_val)\n",
    "mse(pred, y_val)"
   ]
  },
  {
   "cell_type": "code",
   "execution_count": 231,
   "id": "c442ce85",
   "metadata": {},
   "outputs": [
    {
     "name": "stdout",
     "output_type": "stream",
     "text": [
      "Fitting 3 folds for each of 1 candidates, totalling 3 fits\n"
     ]
    },
    {
     "data": {
      "text/plain": [
       "RandomizedSearchCV(cv=3, estimator=RandomForestRegressor(random_state=42),\n",
       "                   n_iter=1, n_jobs=-1,\n",
       "                   param_distributions={'bootstrap': [True, False],\n",
       "                                        'max_depth': [10, 20, 30, 40, 50, 60,\n",
       "                                                      70, 80, 90, 100, 110,\n",
       "                                                      None],\n",
       "                                        'max_features': ['auto', 'sqrt'],\n",
       "                                        'min_samples_leaf': [1, 2, 4],\n",
       "                                        'min_samples_split': [2, 5, 10],\n",
       "                                        'n_estimators': [200, 400, 600, 800,\n",
       "                                                         1000, 1200, 1400, 1600,\n",
       "                                                         1800, 2000]},\n",
       "                   random_state=42, verbose=10)"
      ]
     },
     "execution_count": 231,
     "metadata": {},
     "output_type": "execute_result"
    }
   ],
   "source": [
    "# finding hyperparameters\n",
    "from sklearn.model_selection import RandomizedSearchCV\n",
    "\n",
    "rf = RandomForestRegressor(random_state = 42)\n",
    "\n",
    "n_estimators = [int(x) for x in np.linspace(start = 200, stop = 2000, num = 10)]\n",
    "max_features = ['auto', 'sqrt']\n",
    "max_depth = [int(x) for x in np.linspace(10, 110, num = 11)]\n",
    "max_depth.append(None)\n",
    "min_samples_split = [2, 5, 10]\n",
    "min_samples_leaf = [1, 2, 4]\n",
    "\n",
    "bootstrap = [True, False]\n",
    "\n",
    "# Create the random search grid\n",
    "random_grid = {'n_estimators': n_estimators,\n",
    "               'max_features': max_features,\n",
    "               'max_depth': max_depth,\n",
    "               'min_samples_split': min_samples_split,\n",
    "               'min_samples_leaf': min_samples_leaf,\n",
    "               'bootstrap': bootstrap}\n",
    "\n",
    "rf_random = RandomizedSearchCV(estimator = rf, param_distributions = random_grid, n_iter = 1, cv = 3, verbose=10, random_state=42, n_jobs = -1)\n",
    "\n",
    "rf_random.fit(x_train, y_train)\n",
    "\n"
   ]
  },
  {
   "cell_type": "code",
   "execution_count": 232,
   "id": "2f669c6f",
   "metadata": {},
   "outputs": [
    {
     "name": "stdout",
     "output_type": "stream",
     "text": [
      "0.18778800408627808\n"
     ]
    },
    {
     "data": {
      "text/plain": [
       "0.3423353532337942"
      ]
     },
     "execution_count": 232,
     "metadata": {},
     "output_type": "execute_result"
    }
   ],
   "source": [
    "optimised_random_forest = rf_random.best_params_\n",
    "\n",
    "start = time.time()\n",
    "bestRF = RandomForestRegressor(**optimised_random_forest)\n",
    "bestRF.fit(x_train, y_train)\n",
    "pred = bestRF.predict(x_train)\n",
    "print(mse(pred, y_train))\n",
    "pred = bestRF.predict(x_val)\n",
    "mse(pred, y_val)\n"
   ]
  },
  {
   "cell_type": "code",
   "execution_count": 233,
   "id": "4c573fa8",
   "metadata": {},
   "outputs": [
    {
     "data": {
      "text/plain": [
       "array([3.2256404 , 3.21662381, 3.20565427, 3.22533376, 3.20565427])"
      ]
     },
     "execution_count": 233,
     "metadata": {},
     "output_type": "execute_result"
    }
   ],
   "source": [
    "\n",
    "person1 = x_val.iloc[0].copy()\n",
    "person1['White'] = 0\n",
    "\n",
    "person2 = person1.copy()\n",
    "person2['Black or African American'] = 1\n",
    "\n",
    "person3 = person1.copy()\n",
    "person3['Asian'] = 1\n",
    "\n",
    "person4 = person3 = person1.copy()\n",
    "person4['Native Hawaiian or Other Pacific Islander'] = 1\n",
    "\n",
    "person5 = person3 = person1.copy()\n",
    "person5['2 or more minority races'] = 1\n",
    "\n",
    "person1['White'] = 1\n",
    "\n",
    "people = pd.DataFrame([person1, person2, person3, person4, person5])\n",
    "\n",
    "people.fillna(0, inplace=True)\n",
    "\n",
    "bestRF.predict(people)\n",
    "\n",
    "#pred1 = bestRF.predict(person1.values.reshape(1, -1))\n",
    "#pred2 = bestRF.predict(person2.values.reshape(1, -1))\n",
    "#pred1, pred2\n",
    "#person1"
   ]
  },
  {
   "cell_type": "code",
   "execution_count": 219,
   "id": "ab58788b",
   "metadata": {},
   "outputs": [
    {
     "name": "stdout",
     "output_type": "stream",
     "text": [
      "0.9998253533715785\n"
     ]
    }
   ],
   "source": [
    "# Principal Component Analysis\n",
    "from sklearn.decomposition import PCA\n",
    "pca = PCA(n_components=3, svd_solver='full')\n",
    "pca.fit(x_train)\n",
    "print(sum(pca.explained_variance_ratio_))"
   ]
  },
  {
   "cell_type": "code",
   "execution_count": 220,
   "id": "59319d0c",
   "metadata": {},
   "outputs": [
    {
     "name": "stdout",
     "output_type": "stream",
     "text": [
      "(89884, 3)\n"
     ]
    },
    {
     "data": {
      "text/plain": [
       "0.8673074000933698"
      ]
     },
     "execution_count": 220,
     "metadata": {},
     "output_type": "execute_result"
    }
   ],
   "source": [
    "x_train_reduced = pca.transform(x_train)\n",
    "print(x_train_reduced.shape)\n",
    "PCR = LinearRegression()\n",
    "PCR.fit(x_train_reduced, y_train)\n",
    "x_val_reduced = pca.transform(x_val)\n",
    "pred = PCR.predict(x_val_reduced)\n",
    "mse(pred, y_val)"
   ]
  },
  {
   "cell_type": "code",
   "execution_count": 224,
   "id": "38a46036",
   "metadata": {},
   "outputs": [],
   "source": [
    "from sklearn.preprocessing import StandardScaler\n",
    "scaler = StandardScaler()\n",
    "# Fit only to the training data\n",
    "scaler.fit(x_train)\n",
    "\n",
    "x_train_scaled = scaler.transform(x_train)\n",
    "x_test_scaled = scaler.transform(x_val)"
   ]
  },
  {
   "cell_type": "code",
   "execution_count": 222,
   "id": "95da97b6",
   "metadata": {},
   "outputs": [
    {
     "name": "stdout",
     "output_type": "stream",
     "text": [
      "time: 72.91286015510559\n"
     ]
    },
    {
     "data": {
      "text/plain": [
       "0.29571959874033305"
      ]
     },
     "execution_count": 222,
     "metadata": {},
     "output_type": "execute_result"
    }
   ],
   "source": [
    "#Neural net\n",
    "start = time.time()\n",
    "from sklearn.neural_network import MLPRegressor\n",
    "\n",
    "net1 = MLPRegressor(activation='relu',\n",
    "       hidden_layer_sizes=(48,10,10,10,10), solver='adam', max_iter=1000, learning_rate_init=0.005)\n",
    "net1.fit(x_train_scaled, y_train)\n",
    "pred = net1.predict(x_train_scaled)\n",
    "print(f\"time: {time.time() - start}\")\n",
    "mse(pred, y_train)\n"
   ]
  },
  {
   "cell_type": "code",
   "execution_count": 226,
   "id": "106fe5ed",
   "metadata": {},
   "outputs": [
    {
     "data": {
      "text/plain": [
       "0.34809801900744075"
      ]
     },
     "execution_count": 226,
     "metadata": {},
     "output_type": "execute_result"
    }
   ],
   "source": [
    "x_val_scaled = scaler.transform(x_val)\n",
    "x_val_scaled = pd.DataFrame(x_val_scaled)\n",
    "pred = net1.predict(x_val_scaled)\n",
    "mse(pred, y_val)"
   ]
  },
  {
   "cell_type": "code",
   "execution_count": 112,
   "id": "77e71694",
   "metadata": {},
   "outputs": [
    {
     "data": {
      "text/plain": [
       "(89884, 20)"
      ]
     },
     "execution_count": 112,
     "metadata": {},
     "output_type": "execute_result"
    }
   ],
   "source": [
    "scaler1 = StandardScaler()\n",
    "# Fit only to the training data\n",
    "scaler1.fit(x_train_reduced)\n",
    "\n",
    "#Neural net with pca reduced data\n",
    "start = time.time()\n",
    "x_train_reduced = scaler1.transform(x_train_reduced)\n",
    "x_val_reduced = scaler1.transform(x_val_reduced)\n",
    "x_train_reduced.shape"
   ]
  },
  {
   "cell_type": "code",
   "execution_count": 114,
   "id": "42ca9a0f",
   "metadata": {},
   "outputs": [
    {
     "name": "stdout",
     "output_type": "stream",
     "text": [
      "time: 80.4990611076355\n"
     ]
    },
    {
     "data": {
      "text/plain": [
       "0.3390581039201234"
      ]
     },
     "execution_count": 114,
     "metadata": {},
     "output_type": "execute_result"
    }
   ],
   "source": [
    "\n",
    "net2 = MLPRegressor(activation='relu',\n",
    "       hidden_layer_sizes=(20,10,10,10,10,10,10,10), solver='adam', max_iter=1000, learning_rate_init=0.01)\n",
    "net2.fit(x_train_reduced, y_train)\n",
    "pred = net2.predict(x_train_reduced)\n",
    "print(f\"time: {time.time() - start}\")\n",
    "mse(pred, y_train)"
   ]
  },
  {
   "cell_type": "code",
   "execution_count": 118,
   "id": "992eddd0",
   "metadata": {},
   "outputs": [
    {
     "data": {
      "text/plain": [
       "((11235, 20), (89884, 20))"
      ]
     },
     "execution_count": 118,
     "metadata": {},
     "output_type": "execute_result"
    }
   ],
   "source": [
    "x_val_reduced.shape, x_train_reduced.shape"
   ]
  },
  {
   "cell_type": "code",
   "execution_count": 119,
   "id": "0398eaec",
   "metadata": {},
   "outputs": [
    {
     "data": {
      "text/plain": [
       "0.36374361696130897"
      ]
     },
     "execution_count": 119,
     "metadata": {},
     "output_type": "execute_result"
    }
   ],
   "source": [
    "pred_val = net2.predict(x_val_reduced)\n",
    "mse(pred_val, y_val)"
   ]
  }
 ],
 "metadata": {
  "kernelspec": {
   "display_name": "Python 3",
   "language": "python",
   "name": "python3"
  },
  "language_info": {
   "codemirror_mode": {
    "name": "ipython",
    "version": 3
   },
   "file_extension": ".py",
   "mimetype": "text/x-python",
   "name": "python",
   "nbconvert_exporter": "python",
   "pygments_lexer": "ipython3",
   "version": "3.8.8"
  }
 },
 "nbformat": 4,
 "nbformat_minor": 5
}
