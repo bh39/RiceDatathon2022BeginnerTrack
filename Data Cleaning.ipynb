{
 "cells": [
  {
   "cell_type": "code",
   "execution_count": 34,
   "id": "b9b5e84f",
   "metadata": {},
   "outputs": [
    {
     "name": "stdout",
     "output_type": "stream",
     "text": [
      "year                              0\n",
      "census_tract                      0\n",
      "race                              0\n",
      "income                            0\n",
      "debt_to_income_ratio              0\n",
      "tract_one_to_four_family_homes    0\n",
      "tract_median_age_of_hu            0\n",
      "tract_minority_pop_percent        0\n",
      "tract_population                  0\n",
      "tract_to_msa_income_percentage    0\n",
      "purchaser_type                    0\n",
      "ffiec_msa_md_median_fam_income    0\n",
      "business_or_commercial_purpose    0\n",
      "combined_loan_to_value_ratio      0\n",
      "conforming_loan_limit             0\n",
      "construction_method               0\n",
      "discount_points                   0\n",
      "interest_rate                     0\n",
      "loan_amount                       0\n",
      "loan_type                         0\n",
      "lien_status                       0\n",
      "occupancy_type                    0\n",
      "property_value                    0\n",
      "total_units                       0\n",
      "dtype: int64\n"
     ]
    },
    {
     "data": {
      "text/plain": [
       "year                                int64\n",
       "census_tract                      float64\n",
       "race                               object\n",
       "income                            float64\n",
       "debt_to_income_ratio              float64\n",
       "tract_one_to_four_family_homes    float64\n",
       "tract_median_age_of_hu            float64\n",
       "tract_minority_pop_percent        float64\n",
       "tract_population                  float64\n",
       "tract_to_msa_income_percentage    float64\n",
       "purchaser_type                     object\n",
       "ffiec_msa_md_median_fam_income    float64\n",
       "business_or_commercial_purpose    float64\n",
       "combined_loan_to_value_ratio      float64\n",
       "conforming_loan_limit              object\n",
       "construction_method                object\n",
       "discount_points                   float64\n",
       "interest_rate                     float64\n",
       "loan_amount                       float64\n",
       "loan_type                          object\n",
       "lien_status                        object\n",
       "occupancy_type                     object\n",
       "property_value                    float64\n",
       "total_units                       float64\n",
       "dtype: object"
      ]
     },
     "execution_count": 34,
     "metadata": {},
     "output_type": "execute_result"
    }
   ],
   "source": [
    "import numpy as np\n",
    "import pandas as pd\n",
    "import seaborn as sn\n",
    "import matplotlib.pyplot as plt\n",
    "import plotly.express as px\n",
    "\n",
    "data = pd.read_csv(\"track.csv\")\n",
    "# abnormal interest_rate\n",
    "data[data[\"interest_rate\"] >= 100]\n",
    "# get rid of them\n",
    "data = data[data[\"interest_rate\"] < 100]\n",
    "\n",
    "data_accepted = data[data[\"accepted\"] == 1]\n",
    "data_accepted = data_accepted.drop(columns = [\"state_code\",\"county_code\", \"msa\", \"lender_credits\", \"denial_reason\"\n",
    "                                              , \"sex\", \"aus\", \"total_loan_costs\", \"lei\", \"accepted\", \"balloon_payment\",\"ethnicity\",\n",
    "                                             'applicant_age', 'applicant_age_above_62'])\n",
    "# remove interest rate = 0\n",
    "data_accepted = data_accepted[data_accepted[\"interest_rate\"] > 0]\n",
    "\n",
    "uppBound = data_accepted['combined_loan_to_value_ratio'].mean() + 3 * data_accepted['combined_loan_to_value_ratio'].std()\n",
    "data_accepted = data_accepted[data_accepted[\"combined_loan_to_value_ratio\"] < uppBound]\n",
    "\n",
    "# fill nas for discount point\n",
    "data_accepted[\"discount_points\"].fillna(0, inplace=True)\n",
    "data_accepted[\"purchaser_type\"].fillna(\"No purchaser\", inplace=True)\n",
    "data_accepted.dropna(subset = [\"census_tract\", \"debt_to_income_ratio\", \"income\", \"property_value\"], inplace=True)\n",
    "data_accepted.isna().sum()\n",
    "data_accepted.to_csv(\"cleaned.csv\", index = False)\n",
    "\n",
    "# remove extremely high interest rate 3 std away from mean\n",
    "data_accepted = data_accepted[data_accepted[\"interest_rate\"] > 0]\n",
    "\n",
    "data_accepted['combined_loan_to_value_ratio'].mean() + 3 * data_accepted['combined_loan_to_value_ratio'].std()\n",
    "uppBound = data_accepted['combined_loan_to_value_ratio'].mean() + 3 * data_accepted['combined_loan_to_value_ratio'].std()\n",
    "data_accepted = data_accepted[data_accepted[\"combined_loan_to_value_ratio\"] < uppBound]\n",
    "\n",
    "# fill nas for discount point\n",
    "data_accepted[\"discount_points\"].fillna(0, inplace=True)\n",
    "data_accepted[\"purchaser_type\"].fillna(\"No purchaser\", inplace=True)\n",
    "data_accepted.dropna(subset = [\"census_tract\", \"debt_to_income_ratio\", \"property_value\"], inplace=True)\n",
    "data_accepted.isna().sum()\n",
    "data_accepted.to_csv(\"cleaned.csv\", index = False)\n",
    "print(data_accepted.isna().sum())\n",
    "\n",
    "# ordinalEncoder\n",
    "from sklearn.preprocessing import OrdinalEncoder\n",
    "ratio_sort = [ '<20%', '20%-<30%', '30%-<36%', '36%-<41%','41%-<46%', '46%-<50%','50%-60%','>60%']\n",
    "ratio_enc = OrdinalEncoder(categories=[ratio_sort])\n",
    "data_accepted['debt_to_income_ratio'] = ratio_enc.fit_transform(data_accepted['debt_to_income_ratio'].values.reshape(-1, 1))\n",
    "\n",
    "data_dummy = data_accepted.copy()\n",
    "data_accepted.dtypes\n",
    "\n"
   ]
  },
  {
   "cell_type": "code",
   "execution_count": 35,
   "id": "c07be084",
   "metadata": {},
   "outputs": [
    {
     "data": {
      "text/plain": [
       "<pandas.core.groupby.generic.DataFrameGroupBy object at 0x7f994201c4f0>"
      ]
     },
     "execution_count": 35,
     "metadata": {},
     "output_type": "execute_result"
    }
   ],
   "source": [
    "data_accepted.groupby(\"census_tract\")"
   ]
  },
  {
   "cell_type": "code",
   "execution_count": 36,
   "id": "dc140e24",
   "metadata": {},
   "outputs": [],
   "source": [
    "#one hot encoding\n",
    "data_dummy = data_accepted.copy()\n",
    "data_accepted['debt_to_income_ratio']\n",
    "\n",
    "from sklearn.preprocessing import OneHotEncoder\n",
    "\n",
    "#one hot encoding\n",
    "features_to_encode = list(data_dummy.select_dtypes(include = ['object']).columns)\n",
    "features_to_encode\n",
    "\n",
    "for colName in features_to_encode:\n",
    "    dummies = pd.get_dummies(data_dummy[colName])\n",
    "    data_dummy = pd.concat([data_dummy, dummies], axis=1)\n",
    "    data_dummy.drop(labels=[colName], axis=1, inplace=True)\n",
    "    \n",
    "from sklearn.model_selection import train_test_split\n",
    "#X, y = data_dummy.drop(columns=['interest_rate']), data_dummy['interest_rate']\n",
    "#X.shape, y.shpe\n",
    "train, test = train_test_split(data_dummy, test_size=0.2)\n",
    "val, test = train_test_split(test, test_size=0.5)\n",
    "\n",
    "\n",
    "train.to_csv(\"train.csv\", index = False)\n",
    "val.to_csv(\"val.csv\", index = False)\n",
    "test.to_csv(\"test.csv\", index = False)"
   ]
  },
  {
   "cell_type": "code",
   "execution_count": 18,
   "id": "d78c4090",
   "metadata": {},
   "outputs": [
    {
     "data": {
      "image/png": "[encoded data removed]",
      "text/plain": [
       "<Figure size 432x288 with 1 Axes>"
      ]
     },
     "metadata": {
      "needs_background": "light"
     },
     "output_type": "display_data"
    }
   ],
   "source": [
    "plt.scatter(data_accepted[\"property_value\"], data_accepted[\"interest_rate\"])\n",
    "plt.show()\n"
   ]
  },
  {
   "cell_type": "code",
   "execution_count": null,
   "id": "e9767649",
   "metadata": {},
   "outputs": [],
   "source": []
  }
 ],
 "metadata": {
  "kernelspec": {
   "display_name": "Python 3",
   "language": "python",
   "name": "python3"
  },
  "language_info": {
   "codemirror_mode": {
    "name": "ipython",
    "version": 3
   },
   "file_extension": ".py",
   "mimetype": "text/x-python",
   "name": "python",
   "nbconvert_exporter": "python",
   "pygments_lexer": "ipython3",
   "version": "3.8.8"
  }
 },
 "nbformat": 4,
 "nbformat_minor": 5
}
